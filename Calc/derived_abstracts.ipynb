{
 "cells": [
  {
   "cell_type": "code",
   "execution_count": 1,
   "id": "43cd3383-00a1-4122-a962-102ce79c169a",
   "metadata": {
    "tags": []
   },
   "outputs": [],
   "source": [
    "def ret_sum(tup):\n",
    "    lst = []\n",
    "    for thin in str(tup).split(' '):\n",
    "        try:\n",
    "            if thin == '+':\n",
    "                continue\n",
    "            think = int(thin)\n",
    "            lst += [think]\n",
    "        except AttributeError as AE:\n",
    "            \n",
    "            print(AE)\n",
    "            #given variable expressions:\n",
    "            'a + b + c'\n",
    "            #handle them as str representatives which can be quickly edited given constraints on the system they represent.\n",
    "            return\n",
    "    \n",
    "    return f'{sum(lst)}'.format()"
   ]
  },
  {
   "cell_type": "code",
   "execution_count": 2,
   "id": "23ee419c-8f22-4de6-89ff-6029dfacbbb4",
   "metadata": {
    "tags": []
   },
   "outputs": [
    {
     "name": "stdout",
     "output_type": "stream",
     "text": [
      "('6', ['1', '+', '2', '+', '3'])\n",
      "('6', ['1', '+', '2', '+', '3'])\n"
     ]
    }
   ],
   "source": [
    "def tri(tup):\n",
    "    lst_exp=[]\n",
    "    \n",
    "    for thin in str(tup).split(' '):\n",
    "        lst_exp+=[thin]\n",
    "    y = ret_sum(tup)\n",
    "    return y,lst_exp\n",
    "\n",
    "add_quote = 'a + b + c'\n",
    "add_quote0 = '1 + 2 + 3'\n",
    "print(tri(add_quote0))\n",
    "\n",
    "#given this output\n",
    "print(tri(add_quote0))\n",
    "#assert equality between left and right parts of the list."
   ]
  },
  {
   "cell_type": "code",
   "execution_count": 3,
   "id": "608e9402",
   "metadata": {},
   "outputs": [],
   "source": [
    "def check_equality(tup,**kwargs):\n",
    "    if not kwargs:\n",
    "        \n",
    "        x,lst = tri(tup)\n",
    "        print(x,lst)\n",
    "        i = 0\n",
    "        lst0 = []\n",
    "        smed=0\n",
    "        while i < len(lst):\n",
    "            if lst[i] == '+':\n",
    "                i+=1\n",
    "                continue\n",
    "            smed += int(lst[i])\n",
    "            i+=1\n",
    "        assert int(x) == smed\n",
    "        seq = []\n",
    "        for abc in lst[::-1]:\n",
    "            if abc == '+':\n",
    "                continue\n",
    "            else:\n",
    "                seq += [int(abc)]\n",
    "        ab = sum(seq)\n",
    "        quote = '{} is equal to {}.'.format(ab,smed)\n",
    "        is_equal_to = ' is equal to '\n",
    "        quote0=quote.replace(is_equal_to, '==')\n",
    "        assert eval(quote0)\n",
    "        return True,seq,x    "
   ]
  },
  {
   "cell_type": "code",
   "execution_count": 4,
   "id": "8b269b24-ce81-4ed3-8160-ac51324ebff8",
   "metadata": {},
   "outputs": [],
   "source": [
    "def take_out_lst(stg):\n",
    "    lst,y,quote = check_equality(stg)\n",
    "    return lst"
   ]
  },
  {
   "cell_type": "code",
   "execution_count": 5,
   "id": "d246ea63-b274-4a26-a457-29d9299de380",
   "metadata": {},
   "outputs": [],
   "source": [
    "def neg_sum(tup):\n",
    "    lst = []\n",
    "    for thin in str(tup).split(' '):\n",
    "        try:\n",
    "            if thin == '-':\n",
    "                continue\n",
    "            else:\n",
    "                if thin.startswith('-'):\n",
    "                    think = int(thin)\n",
    "                else:\n",
    "                    think = -int(thin)\n",
    "                lst += [think]\n",
    "        except AttributeError as AE:\n",
    "            print(AE)\n",
    "            #given variable expressions:\n",
    "            'a + b + c'\n",
    "            #handle them as str representatives which can be quickly edited given constraints on the system they represent.\n",
    "            return\n",
    "    \n",
    "    return f'{sum(lst)}'.format()\n"
   ]
  },
  {
   "cell_type": "code",
   "execution_count": 6,
   "id": "1cc59fc7",
   "metadata": {},
   "outputs": [],
   "source": [
    "def dark_tri(tup):\n",
    "    lst_exp=[]\n",
    "    \n",
    "    for thin in str(tup).split(' '):\n",
    "        lst_exp+=[thin]\n",
    "    y = neg_sum(tup)\n",
    "    return y,lst_exp"
   ]
  },
  {
   "cell_type": "code",
   "execution_count": 8,
   "id": "d9bffcc4-7bb4-436b-b2a0-d8dd344bcee4",
   "metadata": {
    "tags": []
   },
   "outputs": [
    {
     "ename": "ValueError",
     "evalue": "invalid literal for int() with base 10: ''",
     "output_type": "error",
     "traceback": [
      "\u001b[1;31m----------------------------------------------------------------\u001b[0m",
      "\u001b[1;31mValueError\u001b[0m                     Traceback (most recent call last)",
      "Cell \u001b[1;32mIn[8], line 1\u001b[0m\n\u001b[1;32m----> 1\u001b[0m dark_tri(\u001b[38;5;124m'\u001b[39m\u001b[38;5;124m- 5 - 5 -5 -  5 -5\u001b[39m\u001b[38;5;124m'\u001b[39m)\n",
      "Cell \u001b[1;32mIn[6], line 6\u001b[0m, in \u001b[0;36mdark_tri\u001b[1;34m(tup)\u001b[0m\n\u001b[0;32m      4\u001b[0m \u001b[38;5;28;01mfor\u001b[39;00m thin \u001b[38;5;129;01min\u001b[39;00m \u001b[38;5;28mstr\u001b[39m(tup)\u001b[38;5;241m.\u001b[39msplit(\u001b[38;5;124m'\u001b[39m\u001b[38;5;124m \u001b[39m\u001b[38;5;124m'\u001b[39m):\n\u001b[0;32m      5\u001b[0m     lst_exp\u001b[38;5;241m+\u001b[39m\u001b[38;5;241m=\u001b[39m[thin]\n\u001b[1;32m----> 6\u001b[0m y \u001b[38;5;241m=\u001b[39m neg_sum(tup)\n\u001b[0;32m      7\u001b[0m \u001b[38;5;28;01mreturn\u001b[39;00m y,lst_exp\n",
      "Cell \u001b[1;32mIn[5], line 11\u001b[0m, in \u001b[0;36mneg_sum\u001b[1;34m(tup)\u001b[0m\n\u001b[0;32m      9\u001b[0m             think \u001b[38;5;241m=\u001b[39m \u001b[38;5;28mint\u001b[39m(thin)\n\u001b[0;32m     10\u001b[0m         \u001b[38;5;28;01melse\u001b[39;00m:\n\u001b[1;32m---> 11\u001b[0m             think \u001b[38;5;241m=\u001b[39m \u001b[38;5;241m-\u001b[39m\u001b[38;5;28mint\u001b[39m(thin)\n\u001b[0;32m     12\u001b[0m         lst \u001b[38;5;241m+\u001b[39m\u001b[38;5;241m=\u001b[39m [think]\n\u001b[0;32m     13\u001b[0m \u001b[38;5;28;01mexcept\u001b[39;00m \u001b[38;5;167;01mAttributeError\u001b[39;00m \u001b[38;5;28;01mas\u001b[39;00m AE:\n",
      "\u001b[1;31mValueError\u001b[0m: invalid literal for int() with base 10: ''"
     ]
    }
   ],
   "source": [
    "dark_tri('- 5 - 5 -5 -  5 -5')"
   ]
  },
  {
   "cell_type": "code",
   "execution_count": 7,
   "id": "da8cf5ca",
   "metadata": {},
   "outputs": [],
   "source": [
    "def dark_check_equality(tup,**kwargs):\n",
    "    if not kwargs:\n",
    "        \n",
    "        x,lst = dark_tri(tup)\n",
    "        print(x,lst)\n",
    "        i = 0\n",
    "        lst0 = []\n",
    "        smed=0\n",
    "        while i < len(lst):\n",
    "            if lst[i] == '-' and type(lst[i]) != int():\n",
    "                i+=1\n",
    "                continue\n",
    "            smed += -abs(int(lst[i]))\n",
    "            i+=1\n",
    "        seq = []\n",
    "        for abc in lst[::-1]:\n",
    "            if abc == '-':\n",
    "                continue\n",
    "            else:\n",
    "                seq += [-abs(int(abc))]\n",
    "        ab = sum(seq)\n",
    "        quote = '{} is equal to {}.'.format(ab,smed)\n",
    "        is_equal_to = ' is equal to '\n",
    "        quote0=quote.replace(is_equal_to, '==')\n",
    "        assert eval(quote0)\n",
    "        return True,seq,x\n",
    "        \n",
    "    "
   ]
  },
  {
   "cell_type": "code",
   "execution_count": 7,
   "id": "4d67d845",
   "metadata": {},
   "outputs": [],
   "source": [
    "def look_up(group,var):\n",
    "    while i != len(group):\n",
    "        if var == group[i]: pass\n",
    "        return var"
   ]
  },
  {
   "cell_type": "code",
   "execution_count": 8,
   "id": "759d5fd6",
   "metadata": {},
   "outputs": [],
   "source": [
    "def vars_in_groups(group,var,my_func):\n",
    "    dicl = len(group)\n",
    "    for dicr in range(dicl):\n",
    "        d[str(look_up(var))]=d.get(str(look_up(var)))+add_or_neg(my_func)\n",
    "    return d\n"
   ]
  },
  {
   "cell_type": "code",
   "execution_count": 9,
   "id": "3ca16f67",
   "metadata": {},
   "outputs": [],
   "source": [
    "def can_scale(group):\n",
    "    i = 0\n",
    "    for c in range(len(group[0:-1])):\n",
    "        lst = group.split('+' or '')\n",
    "    think=[]\n",
    "    for thin in lst:\n",
    "        think += [thin.strip(' ')]\n",
    "    print(think)\n",
    "    negs=[]\n",
    "    pos=[]\n",
    "    think2=[]\n",
    "    for thing in think:\n",
    "        think2 += [eval(thing)]\n",
    "        \n",
    "    return sum(think2)"
   ]
  },
  {
   "cell_type": "code",
   "execution_count": 10,
   "id": "ded266c3",
   "metadata": {},
   "outputs": [],
   "source": [
    "def list_of_tupparsing(lst):\n",
    "    group=[]\n",
    "    ind_gcount=0\n",
    "    lst2 = []\n",
    "    for tup in lst:\n",
    "        ind_gcount,y = tup\n",
    "        if y == '(':\n",
    "            ind_gcount+=1\n",
    "        lst2 += [y]\n",
    "    item_group=[]\n",
    "    group=[]\n",
    "    balance=0\n",
    "    iter_bal=1\n",
    "    for tup in lst2:\n",
    "        for thing in tup:\n",
    "            if thing == '(':\n",
    "                balance+=1\n",
    "            if thing ==')':\n",
    "                balance-=1\n",
    "            if balance >= 0:\n",
    "                item_group += [thing]\n",
    "            if balance == 0:\n",
    "                group+=[item_group]\n",
    "                item_group=[]\n",
    "    \n",
    "    return group"
   ]
  },
  {
   "cell_type": "code",
   "execution_count": 11,
   "id": "b0b38124",
   "metadata": {},
   "outputs": [
    {
     "name": "stdout",
     "output_type": "stream",
     "text": [
      "[['(', 'A', 'Q', 'R', 'T', ')'], ['*'], ['(', '(', 'h', '*', '5', '-', '7', '*', 'b', ')', '/', '3', '*', '(', 'b', '*', '2', '+', 'c', '*', '4', ')', '/', '5', ')'], ['/'], ['7']]\n",
      "2947622633472.0\n"
     ]
    }
   ],
   "source": [
    "def scatter(apple):\n",
    "    things=[]\n",
    "    apples = [thing for thing in zip(range(len([*apple])),apple[:])]\n",
    "    return apples\n",
    "apple='(AQRT)*((h*5-7*b)/3*(b*2+c*4)/5)/7'\n",
    "orch=scatter(apple)\n",
    "what=list_of_tupparsing(orch)\n",
    "print(what)\n",
    "mp = '(2*a**22)*(lv*22**4)'\n",
    "a=2\n",
    "lv= 1.5\n",
    "print(eval(mp))"
   ]
  },
  {
   "cell_type": "code",
   "execution_count": 12,
   "id": "f216da76-b739-447b-8482-98f140906989",
   "metadata": {},
   "outputs": [],
   "source": [
    "def var_set(expression):\n",
    "    s={}\n",
    "    for thing in xpression:\n",
    "        s.add(thing)\n",
    "    return s\n",
    "\n"
   ]
  },
  {
   "cell_type": "code",
   "execution_count": 13,
   "id": "26dfc92f-a08a-4089-96c9-e94f0835281a",
   "metadata": {},
   "outputs": [],
   "source": [
    "def f(expression,string_type=None):\n",
    "    lst=[]\n",
    "    if string_type:\n",
    "        return var_set(str(exact).join(':'+str(xpression)))\n",
    "    else:\n",
    "        \n",
    "        return expression"
   ]
  },
  {
   "cell_type": "code",
   "execution_count": 14,
   "id": "0fda4bf4-8a4b-4691-8b49-f1915b778904",
   "metadata": {},
   "outputs": [],
   "source": [
    "def inv(tip,qua):\n",
    "    return tip,qua"
   ]
  },
  {
   "cell_type": "code",
   "execution_count": 15,
   "id": "b839d2eb-3bc5-4583-902b-98f3901260d3",
   "metadata": {},
   "outputs": [],
   "source": [
    "def mult_vars_inner_loop(exp,gforce,string_type=None,b=0):\n",
    "    order_muldiv=0\n",
    "    whole_groups=[]\n",
    "    exact=0\n",
    "    something_else_l=''\n",
    "    body=0\n",
    "    complex_signed=0\n",
    "    qua=int()\n",
    "    groupoid=list()\n",
    "    right_end=bool()\n",
    "    a = ''\n",
    "    concat=''\n",
    "    oper=0\n",
    "    left_end=bool()\n",
    "    grip=[]\n",
    "    groupoidal=str()\n",
    "    if b == len(gforce):\n",
    "        if not string_type:\n",
    "            return groupoid\n",
    "        else:\n",
    "            return grip,a\n",
    "    for thin in exp:\n",
    "        groupoidal+=str(qua).join(str(gforce[b-1:b]))\n",
    "        for md in thin:\n",
    "            try:\n",
    "                m2 = int(md)\n",
    "                concat+= f'{something_else_l}'.format().join(str(m2))\n",
    "            except:\n",
    "                try:\n",
    "                    assert md == '(' or ')' '=' or '+' or '-' or '/' or '*' or type(md) == str()\n",
    "                    concat+=f'{something_else_l}'.format().join(str(md))\n",
    "                    if md == ')':\n",
    "                        right_end=True\n",
    "                    if md == '/' or '*':\n",
    "                        oper = True\n",
    "                    if md == '(':\n",
    "                        left_end == True\n",
    "                except:\n",
    "                    print(\"Invalid input.\")\n",
    "                    return\n",
    "\n",
    "            if (not left_end) and right_end and string_type == '':\n",
    "                exact+=1\n",
    "                whole_groups += [concat]\n",
    "                qua = (exact,f(concat))\n",
    "                x,y = qua\n",
    "                groupoid+=[[x,y]]\n",
    "                right_end=False\n",
    "            if string_type != '' and not string_type:\n",
    "                grip += [mult_vars_inner_loop(groupoid[b:],gforce,string_type=string_type,b=b+1)]\n",
    "    return groupoid\n"
   ]
  },
  {
   "cell_type": "code",
   "execution_count": 16,
   "id": "31c57d58-5d28-44cb-93ad-d8b47673ac81",
   "metadata": {},
   "outputs": [],
   "source": [
    "def generate_lab(exp,what):\n",
    "    return [range(len(exp)) for ABC in what]\n"
   ]
  },
  {
   "cell_type": "code",
   "execution_count": 17,
   "id": "9f7c137e-6214-486e-ae19-07370d43c627",
   "metadata": {},
   "outputs": [],
   "source": [
    "def gen_force(exp,string_type='',b=0):\n",
    "    a = generate_lab(exp,what)\n",
    "    return mult_vars_inner_loop(exp,a,string_type='',b=0)"
   ]
  },
  {
   "cell_type": "code",
   "execution_count": 18,
   "id": "945a9a44-419e-4c68-85c0-f44c7026d8bd",
   "metadata": {},
   "outputs": [
    {
     "name": "stdout",
     "output_type": "stream",
     "text": [
      "('Q', ['(A', 'RT)'], '(AQRT)', '(ART)', [1, '(AQRT)'])\n"
     ]
    }
   ],
   "source": [
    "gf = gen_force(apple,string_type='AQRT')\n",
    "gf2 = gen_force(what,string_type='Q')\n",
    "def match_string(gf,stg):\n",
    "    try:\n",
    "        for lst in gf:\n",
    "            for subs in gf:\n",
    "                for stuff in subs:\n",
    "                    if str(stuff) == str(stg):\n",
    "                        return stuff,subs\n",
    "        for lst in gf:\n",
    "            for subs in gf:\n",
    "                for thing in subs[1]:\n",
    "                    if stg in thing:\n",
    "                        \n",
    "                        a=subs[1].split(stg)\n",
    "                        b = subs[1].replace(stg,'')\n",
    "                        z= stg,a,subs[1],b,subs\n",
    "                        return z\n",
    "        \n",
    "    except:\n",
    "        print('Couldn\\'t match a string or integer to the data.')\n",
    "        return\n",
    "def wgf(in_res):\n",
    "    return\n",
    "\n",
    "print(match_string(gf,'Q'))\n",
    "\n",
    "\n",
    "def is_tup(tup):\n",
    "    assert type(tup) != list()\n",
    "    assert type(tup) != str()\n",
    "    return True\n"
   ]
  },
  {
   "cell_type": "code",
   "execution_count": null,
   "id": "d7b15107-8676-4712-8c81-91850b6445ba",
   "metadata": {},
   "outputs": [],
   "source": [
    "print(match_string(gf,'ART'))"
   ]
  }
 ],
 "metadata": {
  "kernelspec": {
   "display_name": "Python 3 (ipykernel)",
   "language": "python",
   "name": "python3"
  },
  "language_info": {
   "codemirror_mode": {
    "name": "ipython",
    "version": 3
   },
   "file_extension": ".py",
   "mimetype": "text/x-python",
   "name": "python",
   "nbconvert_exporter": "python",
   "pygments_lexer": "ipython3",
   "version": "3.11.5"
  }
 },
 "nbformat": 4,
 "nbformat_minor": 5
}
